{
 "cells": [
  {
   "cell_type": "code",
   "execution_count": 12,
   "metadata": {},
   "outputs": [
    {
     "name": "stdout",
     "output_type": "stream",
     "text": [
      "a)\n",
      "MTM:\n",
      " [[  39.   57.   60.]\n",
      " [  57.  118.   53.]\n",
      " [  60.   53.  127.]]\n",
      "MMT:\n",
      " [[  10.    9.   26.    3.   26.]\n",
      " [   9.   62.    8.   -5.   85.]\n",
      " [  26.    8.   72.   10.   50.]\n",
      " [   3.   -5.   10.    2.   -1.]\n",
      " [  26.   85.   50.   -1.  138.]]\n",
      "\n",
      "\n",
      "b)\n",
      "eigvalueA:\n",
      " [  2.14670489e+02   9.32587341e-15   6.93295108e+01]\n",
      "eigvalueB:\n",
      " [  2.14670489e+02  -8.88178420e-16   6.93295108e+01  -3.34838281e-15\n",
      "   7.47833227e-16]\n",
      "\n",
      "\n",
      "c)\n",
      "eigvectorA:\n",
      " [[ 0.42615127  0.90453403 -0.01460404]\n",
      " [ 0.61500884 -0.30151134 -0.72859799]\n",
      " [ 0.66344497 -0.30151134  0.68478587]]\n",
      "eigvectorB:\n",
      " [[-0.16492942 -0.95539856  0.24497323 -0.54001979 -0.78501713]\n",
      " [-0.47164732 -0.03481209 -0.45330644 -0.62022234  0.30294097]\n",
      " [-0.33647055  0.27076072  0.82943965 -0.12704172  0.2856551 ]\n",
      " [-0.00330585  0.04409532  0.16974659  0.16015949  0.43709105]\n",
      " [-0.79820031  0.10366268 -0.13310656  0.53095405 -0.13902319]]\n",
      "\n",
      "\n"
     ]
    }
   ],
   "source": [
    "import numpy as np\n",
    "M = [[1,0,3],[3,7,2],[2,-2,8],[0,-1,1],[5,8,7]]\n",
    "M = np.array(M, dtype = float)\n",
    "\n",
    "# a)\n",
    "print (\"a)\")\n",
    "MTM = np.dot(np.transpose(M),M)\n",
    "MMT = np.dot(M,np.transpose(M))\n",
    "\n",
    "print (\"MTM:\\n\",MTM)\n",
    "print (\"MMT:\\n\",MMT)\n",
    "print (\"\\n\")\n",
    "\n",
    "eigvalueA, eigvectorA = np.linalg.eig(MTM)\n",
    "eigvalueB, eigvectorB = np.linalg.eig(MMT)\n",
    "\n",
    "# b)\n",
    "print (\"b)\")\n",
    "print (\"eigvalueA:\\n\",eigvalueA)\n",
    "print (\"eigvalueB:\\n\",eigvalueB)\n",
    "print (\"\\n\")\n",
    "\n",
    "# c)\n",
    "print (\"c)\")\n",
    "print (\"eigvectorA:\\n\",eigvectorA)\n",
    "print (\"eigvectorB:\\n\",eigvectorB)\n",
    "print (\"\\n\")"
   ]
  },
  {
   "cell_type": "markdown",
   "metadata": {},
   "source": [
    "d)Due to caclulation error, we only take the first and the third eigenvalues. Correspondingly, we only take the first and the third columns of left singular vector and right singular vector."
   ]
  },
  {
   "cell_type": "code",
   "execution_count": 11,
   "metadata": {},
   "outputs": [
    {
     "name": "stdout",
     "output_type": "stream",
     "text": [
      "U:\n",
      " [[-0.16492942  0.24497323]\n",
      " [-0.47164732 -0.45330644]\n",
      " [-0.33647055  0.82943965]\n",
      " [-0.00330585  0.16974659]\n",
      " [-0.79820031 -0.13310656]]\n",
      "S:\n",
      " [[ 14.65163776   0.        ]\n",
      " [  0.           8.32643446]]\n",
      "V^T:\n",
      " [[ 0.42615127  0.61500884  0.66344497]\n",
      " [-0.01460404 -0.72859799  0.68478587]]\n",
      "\n",
      "\n",
      "e)\n",
      "[[-1.02978864 -1.48616035 -1.60320558]\n",
      " [-2.94487812 -4.24996055 -4.58467382]\n",
      " [-2.10085952 -3.031898   -3.27068057]\n",
      " [-0.02064112 -0.02978864 -0.0321347 ]\n",
      " [-4.9838143  -7.19249261 -7.75895028]]\n"
     ]
    }
   ],
   "source": [
    "s =np.diag([x**(0.5) for x in eigvalueA[::2]])\n",
    "u=np.array([x[:3:2] for x in eigvectorB])\n",
    "v=np.array([x[:3:2] for x in eigvectorA])\n",
    "print (\"U:\\n\",u)\n",
    "print (\"S:\\n\",s)\n",
    "print (\"V^T:\\n\",np.transpose(v))\n",
    "print (\"\\n\")\n",
    "\n",
    "# e)\n",
    "print (\"e)\")\n",
    "print(np.dot(np.dot(u[:,:1],s[:1,:1]),np.transpose(v)[:1,:]))"
   ]
  }
 ],
 "metadata": {
  "kernelspec": {
   "display_name": "Python 3",
   "language": "python",
   "name": "python3"
  },
  "language_info": {
   "codemirror_mode": {
    "name": "ipython",
    "version": 3
   },
   "file_extension": ".py",
   "mimetype": "text/x-python",
   "name": "python",
   "nbconvert_exporter": "python",
   "pygments_lexer": "ipython3",
   "version": "3.6.1"
  }
 },
 "nbformat": 4,
 "nbformat_minor": 2
}
