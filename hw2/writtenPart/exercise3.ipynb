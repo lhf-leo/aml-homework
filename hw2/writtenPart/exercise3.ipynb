{
 "cells": [
  {
   "cell_type": "code",
   "execution_count": 39,
   "metadata": {},
   "outputs": [
    {
     "ename": "NameError",
     "evalue": "name 'long' is not defined",
     "output_type": "error",
     "traceback": [
      "\u001b[0;31m---------------------------------------------------------------------------\u001b[0m",
      "\u001b[0;31mNameError\u001b[0m                                 Traceback (most recent call last)",
      "\u001b[0;32m<ipython-input-39-4c04a82b6be1>\u001b[0m in \u001b[0;36m<module>\u001b[0;34m()\u001b[0m\n\u001b[1;32m      1\u001b[0m \u001b[0;32mimport\u001b[0m \u001b[0mnumpy\u001b[0m \u001b[0;32mas\u001b[0m \u001b[0mnp\u001b[0m\u001b[0;34m\u001b[0m\u001b[0m\n\u001b[1;32m      2\u001b[0m \u001b[0mM\u001b[0m \u001b[0;34m=\u001b[0m \u001b[0;34m[\u001b[0m\u001b[0;34m[\u001b[0m\u001b[0;36m1\u001b[0m\u001b[0;34m,\u001b[0m\u001b[0;36m0\u001b[0m\u001b[0;34m,\u001b[0m\u001b[0;36m3\u001b[0m\u001b[0;34m]\u001b[0m\u001b[0;34m,\u001b[0m\u001b[0;34m[\u001b[0m\u001b[0;36m3\u001b[0m\u001b[0;34m,\u001b[0m\u001b[0;36m7\u001b[0m\u001b[0;34m,\u001b[0m\u001b[0;36m2\u001b[0m\u001b[0;34m]\u001b[0m\u001b[0;34m,\u001b[0m\u001b[0;34m[\u001b[0m\u001b[0;36m2\u001b[0m\u001b[0;34m,\u001b[0m\u001b[0;34m-\u001b[0m\u001b[0;36m2\u001b[0m\u001b[0;34m,\u001b[0m\u001b[0;36m8\u001b[0m\u001b[0;34m]\u001b[0m\u001b[0;34m,\u001b[0m\u001b[0;34m[\u001b[0m\u001b[0;36m0\u001b[0m\u001b[0;34m,\u001b[0m\u001b[0;34m-\u001b[0m\u001b[0;36m1\u001b[0m\u001b[0;34m,\u001b[0m\u001b[0;36m1\u001b[0m\u001b[0;34m]\u001b[0m\u001b[0;34m,\u001b[0m\u001b[0;34m[\u001b[0m\u001b[0;36m5\u001b[0m\u001b[0;34m,\u001b[0m\u001b[0;36m8\u001b[0m\u001b[0;34m,\u001b[0m\u001b[0;36m7\u001b[0m\u001b[0;34m]\u001b[0m\u001b[0;34m]\u001b[0m\u001b[0;34m\u001b[0m\u001b[0m\n\u001b[0;32m----> 3\u001b[0;31m \u001b[0mM\u001b[0m \u001b[0;34m=\u001b[0m \u001b[0mnp\u001b[0m\u001b[0;34m.\u001b[0m\u001b[0marray\u001b[0m\u001b[0;34m(\u001b[0m\u001b[0mM\u001b[0m\u001b[0;34m,\u001b[0m \u001b[0mdtype\u001b[0m \u001b[0;34m=\u001b[0m \u001b[0mlong\u001b[0m\u001b[0;34m)\u001b[0m\u001b[0;34m\u001b[0m\u001b[0m\n\u001b[0m\u001b[1;32m      4\u001b[0m \u001b[0;34m\u001b[0m\u001b[0m\n\u001b[1;32m      5\u001b[0m \u001b[0;31m# a)\u001b[0m\u001b[0;34m\u001b[0m\u001b[0;34m\u001b[0m\u001b[0m\n",
      "\u001b[0;31mNameError\u001b[0m: name 'long' is not defined"
     ]
    }
   ],
   "source": [
    "import numpy as np\n",
    "M = [[1,0,3],[3,7,2],[2,-2,8],[0,-1,1],[5,8,7]]\n",
    "M = np.array(M, dtype = float)\n",
    "\n",
    "# a)\n",
    "print (\"a)\")\n",
    "MTM = np.dot(np.transpose(M),M)\n",
    "MMT = np.dot(M,np.transpose(M))\n",
    "\n",
    "print (\"MTM:\\n\",MTM)\n",
    "print (\"MMT:\\n\",MMT)\n",
    "print (\"\\n\")\n",
    "\n",
    "eigvalueA, eigvectorA = np.linalg.eig(MTM)\n",
    "eigvalueB, eigvectorB = np.linalg.eig(MMT)\n",
    "\n",
    "# b)\n",
    "print (\"b)\")\n",
    "print (\"eigvalueA:\\n\",eigvalueA)\n",
    "print (\"eigvalueB:\\n\",eigvalueB)\n",
    "print (\"\\n\")\n",
    "\n",
    "# c)\n",
    "print (\"c)\")\n",
    "print (\"eigvectorA:\\n\",eigvectorA)\n",
    "print (\"eigvectorB:\\n\",eigvectorB)\n",
    "print (\"\\n\")\n",
    "\n",
    "# d)\n",
    "print (\"d)\")\n",
    "u,s,v = np.linalg.svd(M)\n",
    "s =np.diag(s)\n",
    "print (\"U:\\n\",u)\n",
    "print (\"S:\\n\",s)\n",
    "print (\"V:\\n\",v)\n",
    "print (\"\\n\")\n",
    "\n",
    "# e)\n",
    "print (\"e)\")\n",
    "def rankRApprox(matrix,r):\n",
    "    u,s,v = np.linalg.svd(matrix)\n",
    "    s =np.diag(s)\n",
    "    approx_data=np.dot(np.dot(u[:,:r],s[:r,:r]),v[:r,:])\n",
    "    return approx_data\n",
    "\n",
    "print (\"Rank 1 approximation:\\n\",rankRApprox(M,1))\n",
    "# ranks=[rankRApprox(i) for i in range(1,201)]\n",
    "# plt.plot(range(1,201),ranks)\n",
    "# plt.show()"
   ]
  }
 ],
 "metadata": {
  "kernelspec": {
   "display_name": "Python 3",
   "language": "python",
   "name": "python3"
  },
  "language_info": {
   "codemirror_mode": {
    "name": "ipython",
    "version": 3
   },
   "file_extension": ".py",
   "mimetype": "text/x-python",
   "name": "python",
   "nbconvert_exporter": "python",
   "pygments_lexer": "ipython3",
   "version": "3.6.1"
  }
 },
 "nbformat": 4,
 "nbformat_minor": 2
}
