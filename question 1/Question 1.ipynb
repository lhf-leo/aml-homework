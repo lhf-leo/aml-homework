{
 "cells": [
  {
   "cell_type": "code",
   "execution_count": 3,
   "metadata": {},
   "outputs": [
    {
     "data": {
      "application/vnd.jupyter.widget-view+json": {
       "model_id": "2c07a3a7641b4f328cd79c6a117ddd55"
      }
     },
     "metadata": {},
     "output_type": "display_data"
    },
    {
     "data": {
      "text/plain": [
       "<function __main__.show_image>"
      ]
     },
     "execution_count": 3,
     "metadata": {},
     "output_type": "execute_result"
    }
   ],
   "source": [
    "import csv\n",
    "import numpy as np\n",
    "import matplotlib.pyplot as plt\n",
    "from ipywidgets import interact\n",
    "import pandas as pd\n",
    "from pylab import *\n",
    "import scipy\n",
    "import sklearn\n",
    "from sklearn.metrics.pairwise import euclidean_distances\n",
    "import itertools\n",
    "\n",
    "dataset=pd.read_csv('train.csv', sep=',',header=0)\n",
    "label=list(dataset.label)\n",
    "data=dataset.iloc[:,1:]\n",
    "def show_image(n):\n",
    "    print(\"Label:\",label[n])\n",
    "    t= data.iloc[n].values.reshape(28,28)\n",
    "    plt.matshow(t, cmap='gray')\n",
    "    plt.show()\n",
    "interact(show_image,n=(0,41999))\n"
   ]
  },
  {
   "cell_type": "code",
   "execution_count": 56,
   "metadata": {},
   "outputs": [
    {
     "data": {
      "image/png": "[encoded data removed]",
      "text/plain": [
       "<matplotlib.figure.Figure at 0x13b1730b8>"
      ]
     },
     "metadata": {},
     "output_type": "display_data"
    }
   ],
   "source": [
    "from collections import Counter\n",
    "def show_prior_prob():\n",
    "    labels, counts = zip(*Counter(label).items())\n",
    "    total = sum(counts)\n",
    "    pp = list(map(lambda x: x/float(total), counts))\n",
    "    sorted_pp = [pp for _,pp in sorted(zip(labels,pp))]\n",
    "    plt.bar(labels,sorted_pp,1)\n",
    "    plt.xticks(arange(10),arange(10))\n",
    "    plt.show()\n",
    "show_prior_prob()\n"
   ]
  },
  {
   "cell_type": "code",
   "execution_count": 4,
   "metadata": {},
   "outputs": [
    {
     "name": "stdout",
     "output_type": "stream",
     "text": [
      "Predicted Value :1 Actual value :0\n",
      "*\n",
      "Predicted Value :7 Actual value :1\n",
      "*\n",
      "Predicted Value :9 Actual value :2\n",
      "*\n",
      "Predicted Value :4 Actual value :3\n",
      "*\n",
      "Predicted Value :8 Actual value :4\n",
      "*\n",
      "Predicted Value :3 Actual value :5\n",
      "*\n",
      "Predicted Value :0 Actual value :6\n",
      "*\n",
      "Predicted Value :3 Actual value :7\n",
      "*\n",
      "Predicted Value :0 Actual value :8\n",
      "*\n",
      "Predicted Value :9 Actual value :9\n"
     ]
    }
   ],
   "source": [
    "def mostNearestNeighbor(inX, dataMat, labelMat):\n",
    "    dataSetSize = dataMat.shape[0]\n",
    "    diffMat = tile(inX,(dataSetSize,1)) - dataMat\n",
    "    sqDiffMat = diffMat**2\n",
    "    sqDistances = sqDiffMat.sum(axis=1)\n",
    "    distances = list(sqDistances**0.5)\n",
    "    targetIndex = distances.index(min(distances))\n",
    "    return min(distances),targetIndex, label[targetIndex]\n",
    "\n",
    "def findUniqDigitsIndex():\n",
    "    res = []\n",
    "    for i in range(10):\n",
    "        res.append(label.index(i))\n",
    "    return res\n",
    "\n",
    "def findNearestNeighborQuestion():\n",
    "    for i in findUniqDigitsIndex():\n",
    "        dataRemain = np.delete(array(data),(i), axis=0)\n",
    "        labelRemain = np.delete(array(label),(i), axis=0)\n",
    "        minDistance, predictedIndex, predictedValue = mostNearestNeighbor(data.iloc[i],dataRemain,labelRemain)\n",
    "        print(\"Predicted Value :\" + str(predictedValue) + \" Actual value :\" + str(label[i]))\n",
    "        if str(predictedValue)!=str(label[i]):\n",
    "            print(\"*\")\n",
    "findNearestNeighborQuestion()"
   ]
  },
  {
   "cell_type": "code",
   "execution_count": 5,
   "metadata": {},
   "outputs": [
    {
     "data": {
      "image/png": "[encoded data removed]",
      "text/plain": [
       "<matplotlib.figure.Figure at 0x129c16780>"
      ]
     },
     "metadata": {},
     "output_type": "display_data"
    }
   ],
   "source": [
    "genuine,impostor =[],[]\n",
    "def plotHistogram():\n",
    "    dataMatBinary,labelMatBinary = [],[]\n",
    "    for i in range(len(label)):\n",
    "        if label[i]==0 or label[i]==1:\n",
    "            dataMatBinary.append(data.iloc[i])\n",
    "            labelMatBinary.append(label[i])\n",
    "    dists = sklearn.metrics.pairwise.euclidean_distances(dataMatBinary)\n",
    "    for (i_index,i),(j_index,j) in itertools.combinations(enumerate(labelMatBinary), 2):\n",
    "        genuine.append(dists[i_index][j_index]) if i==j else impostor.append(dists[i_index][j_index])\n",
    "    bins = 100\n",
    "    labels = plt.subplot()\n",
    "    labels.set_xlabel(\"distance\")\n",
    "    labels.set_ylabel(\"count\")\n",
    "    plt.hist(genuine, bins, alpha=0.5, label='genuine')\n",
    "    plt.hist(impostor, bins, alpha=0.5, label='impostor')\n",
    "    plt.legend(loc='upper right')\n",
    "    plt.show()\n",
    "    return dists\n",
    "    \n",
    "dists = plotHistogram()"
   ]
  },
  {
   "cell_type": "code",
   "execution_count": 1,
   "metadata": {},
   "outputs": [
    {
     "ename": "NameError",
     "evalue": "name 'genuine' is not defined",
     "output_type": "error",
     "traceback": [
      "\u001b[0;31m---------------------------------------------------------------------------\u001b[0m",
      "\u001b[0;31mNameError\u001b[0m                                 Traceback (most recent call last)",
      "\u001b[0;32m<ipython-input-1-32c8b8ac65b0>\u001b[0m in \u001b[0;36m<module>\u001b[0;34m()\u001b[0m\n\u001b[1;32m     24\u001b[0m     \u001b[0mplt\u001b[0m\u001b[0;34m.\u001b[0m\u001b[0mshow\u001b[0m\u001b[0;34m(\u001b[0m\u001b[0;34m)\u001b[0m\u001b[0;34m\u001b[0m\u001b[0m\n\u001b[1;32m     25\u001b[0m \u001b[0;34m\u001b[0m\u001b[0m\n\u001b[0;32m---> 26\u001b[0;31m \u001b[0mplotROC\u001b[0m\u001b[0;34m(\u001b[0m\u001b[0mgenuine\u001b[0m\u001b[0;34m,\u001b[0m\u001b[0mimpostor\u001b[0m\u001b[0;34m)\u001b[0m\u001b[0;34m\u001b[0m\u001b[0m\n\u001b[0m",
      "\u001b[0;31mNameError\u001b[0m: name 'genuine' is not defined"
     ]
    }
   ],
   "source": [
    "def plotROC(genuine,impostor):\n",
    "    tprarray,fprarray = [],[]\n",
    "    genuine = np.array(genuine)\n",
    "    impostor = np.array(impostor)\n",
    "    for distance in range(int(amin(dists)),int(amax(dists)),50):\n",
    "        tp = len(impostor[impostor>= distance])\n",
    "        fp = len(genuine[genuine>= distance])\n",
    "        fn = len(impostor) - tp\n",
    "        tn = len(genuine) - fp\n",
    "        tpr = tp / len(impostor)\n",
    "        fpr = fp / len(genuine)\n",
    "        tprarray.append( tpr )\n",
    "        fprarray.append( fpr )\n",
    "        if abs(fpr-1+tpr) < 0.03:\n",
    "            eer = (fp+fn)/(tp+tn+fn+fp)\n",
    "            print(\"equal error rate: \",eer)\n",
    "    print(\"guess rate: \",len(impostor)/(len(impostor)+len(genuine)))\n",
    "    \n",
    "    plt.plot(fprarray,tprarray)\n",
    "    plt.plot([0,1],[0,1],color='navy',linestyle='--')#roc when choose randomly\n",
    "    plt.plot([0,1],[1,0],color='gray',linestyle='--',linewidth=0.5)#to get equal error rate\n",
    "    plt.xlabel('FPR')\n",
    "    plt.ylabel('TPR')\n",
    "    plt.show()\n",
    "    \n",
    "plotROC(genuine,impostor)"
   ]
  },
  {
   "cell_type": "code",
   "execution_count": 3,
   "metadata": {},
   "outputs": [
    {
     "name": "stdout",
     "output_type": "stream",
     "text": [
      "K is : 3\n",
      "[[161   0   0   1   0   1   2   0   1   2]\n",
      " [  0 175  10   1   1   3   1   2   5   3]\n",
      " [  0   1 181   2   0   0   0   0   0   1]\n",
      " [  0   0   3 128   0   5   0   0   8   1]\n",
      " [  0   0   0   0 148   1   0   2   1   2]\n",
      " [  0   1   0   2   0 141   0   1   7   0]\n",
      " [  4   0   0   0   1   0 166   0   0   0]\n",
      " [  0   0   7   2   1   0   0 158   2   7]\n",
      " [  0   1   5   1   0   2   0   0 126   0]\n",
      " [  0   0   0   1  16   0   0   4   4 154]]\n",
      "success rate:  0.922615476905 \n",
      "\n",
      "[[173   0   1   0   0   0   2   0   2   2]\n",
      " [  0 193   4   2   3   0   0   4   4   1]\n",
      " [  0   0 144   1   0   0   0   1   1   0]\n",
      " [  0   0   0 155   0   2   0   0   5   1]\n",
      " [  0   0   1   0 141   1   0   0   0  10]\n",
      " [  0   0   0   3   0 155   1   0   5   2]\n",
      " [  1   1   1   2   1   2 163   0   2   0]\n",
      " [  1   0   3   0   1   0   0 159   0   6]\n",
      " [  0   0   1   1   0   2   0   0 136   0]\n",
      " [  1   0   2   2  11   4   0   5   7 132]]\n",
      "success rate:  0.930413917217 \n",
      "\n",
      "[[148   0   5   0   0   0   1   0   1   1]\n",
      " [  0 183   4   1   2   0   0   8   5   1]\n",
      " [  0   0 162   1   0   1   0   1   2   1]\n",
      " [  0   1   1 163   0   5   0   0   4   1]\n",
      " [  0   0   1   0 138   0   1   2   1   4]\n",
      " [  0   0   0   7   0 137   2   0   9   2]\n",
      " [  4   0   0   0   1   3 177   0   1   0]\n",
      " [  0   1   6   0   0   1   0 155   1   7]\n",
      " [  1   0   1   2   0   1   0   0 135   0]\n",
      " [  0   1   2   2  12   2   0   4   2 137]]\n",
      "success rate:  0.921368547419 \n",
      "\n",
      "\n",
      "average success rate:  0.924799313847\n"
     ]
    }
   ],
   "source": [
    "from sklearn.metrics import confusion_matrix\n",
    "from sklearn import cross_validation\n",
    "from scipy.spatial.distance import cdist\n",
    "from multiprocessing import Pool\n",
    "\n",
    "# def nearestNeighborK(inX, dataMat, labelMat, k):\n",
    "#     dataSetSize = dataMat.shape[0]\n",
    "#     diffMat = tile(inX,(dataSetSize,1)) - dataMat\n",
    "#     sqDiffMat = diffMat**2\n",
    "#     sqDistances = sqDiffMat.sum(axis=1)\n",
    "#     distances = sqDistances**0.5\n",
    "#     sortedDistIndicies = distances.argsort()\n",
    "#     classCount={}\n",
    "#     for i in range(1,k+1):\n",
    "#         voteIlabel = labelMat[sortedDistIndicies[i]]\n",
    "#         classCount[voteIlabel] = classCount.get(voteIlabel,0) + 1\n",
    "#     return max(classCount, key=classCount.get)\n",
    "\n",
    "# def nearestNeighborKPairwise(inX, dataMat, labelMat, k):    \n",
    "#     dists = sklearn.metrics.pairwise.euclidean_distances(inX,dataMat)\n",
    "#     smallestKIndicies = np.argpartition(dists,k)[0][:k]\n",
    "#     classCount={}\n",
    "#     for i in range(0,k):\n",
    "#         voteIlabel = labelMat[smallestKIndicies[i]]\n",
    "#         classCount[voteIlabel] = classCount.get(voteIlabel,0) + 1\n",
    "#     return max(classCount, key=classCount.get)\n",
    "\n",
    "def reducedIndicies(testData, trainData, k, offset=0):\n",
    "    dists = scipy.spatial.distance.cdist(testData,trainData, 'euclidean')\n",
    "    sortedIndicies = np.argpartition(dists,k)\n",
    "    result=[]\n",
    "    for i, row in enumerate(sortedIndicies):\n",
    "        r=[]\n",
    "        for x in row[:k]:\n",
    "            r.append((dists[i][x], x+offset))\n",
    "        result.append(r)\n",
    "    return result\n",
    "\n",
    "## if testLabel given, it's a cross validation\n",
    "def nearestNeighborKCdist(testData, trainData, trainLabel, k, testLabel=None):\n",
    "    p = Pool(4)\n",
    "    testOffset = len(testData)//2\n",
    "    trainOffset = len(trainData)//2\n",
    "    temp = p.starmap(reducedIndicies, [(testData[:testOffset], trainData[:trainOffset], k),\n",
    "                            (testData[:testOffset], trainData[trainOffset:], k, trainOffset),\n",
    "                            (testData[testOffset:], trainData[:trainOffset], k),\n",
    "                            (testData[testOffset:], trainData[trainOffset:], k, trainOffset)])\n",
    "    indicies = list(map(lambda x: x[0]+x[1],zip(temp[0], temp[1])))+list(map(lambda x: x[0]+x[1],zip(temp[2], temp[3])))                                                   \n",
    "    sortedIndicies = [sorted(row) for row in indicies]\n",
    "                                                            \n",
    "    pred = []\n",
    "    success = 0\n",
    "    for ind, x in enumerate(sortedIndicies):\n",
    "        classCount={}\n",
    "        for i in range(0,k):\n",
    "            voteIlabel = trainLabel[x[i][1]]\n",
    "            classCount[voteIlabel] = classCount.get(voteIlabel,0) + 1\n",
    "        if testLabel is not None: success += (max(classCount, key=classCount.get)==testLabel[ind])\n",
    "        pred.append(max(classCount, key=classCount.get))\n",
    "    successRate = success/len(testData)\n",
    "    return successRate, pred\n",
    "\n",
    "def generateConfusionMatrix(*fold):\n",
    "    train_indices, test_indices, k = fold\n",
    "    X_train = np.array(data)[train_indices]\n",
    "    Y_train = np.array(label)[train_indices]\n",
    "    X_test = np.array(data)[test_indices]\n",
    "    Y_test = np.array(label)[test_indices]\n",
    "\n",
    "    successRate, pred = nearestNeighborKCdist(X_test, X_train, Y_train, k, Y_test)\n",
    "    print(confusion_matrix(array(pred), Y_test))\n",
    "    return successRate\n",
    "\n",
    "def performCrossValidation(sampleSize, k=3):\n",
    "    if sampleSize is None: sampleSize = len(data)\n",
    "    successRate = 0\n",
    "    print(\"K is :\", k)\n",
    "    for train, test in (cross_validation.KFold(sampleSize, n_folds=3)):\n",
    "        success = generateConfusionMatrix(train,test,k)\n",
    "        successRate+=success\n",
    "        print('success rate: ', success,'\\n')\n",
    "    print('\\naverage success rate: ', successRate/3)\n",
    "\n",
    "performCrossValidation(sampleSize = 5000)"
   ]
  },
  {
   "cell_type": "markdown",
   "metadata": {},
   "source": [
    "1 and 9 areparticularly tricky to classify"
   ]
  },
  {
   "cell_type": "code",
   "execution_count": 7,
   "metadata": {
    "collapsed": true
   },
   "outputs": [],
   "source": [
    "testSet=pd.read_csv('test.csv', sep=',',header=0)\n",
    "_, pred = nearestNeighborKCdist(testSet, data,label,3)\n",
    "with open('submission.csv', 'w', newline='') as csvfile:\n",
    "    spamwriter = csv.writer(csvfile, delimiter=',')\n",
    "    spamwriter.writerow(['ImageId','Label'])\n",
    "    for i,r in enumerate(pred):\n",
    "        spamwriter.writerow([i+1,r])"
   ]
  }
 ],
 "metadata": {
  "kernelspec": {
   "display_name": "Python 3",
   "language": "python",
   "name": "python3"
  },
  "language_info": {
   "codemirror_mode": {
    "name": "ipython",
    "version": 3
   },
   "file_extension": ".py",
   "mimetype": "text/x-python",
   "name": "python",
   "nbconvert_exporter": "python",
   "pygments_lexer": "ipython3",
   "version": "3.6.1"
  }
 },
 "nbformat": 4,
 "nbformat_minor": 2
}
