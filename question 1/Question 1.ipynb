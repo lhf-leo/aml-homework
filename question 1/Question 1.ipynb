{
 "cells": [
  {
   "cell_type": "code",
   "execution_count": 1,
   "metadata": {},
   "outputs": [
    {
     "name": "stdout",
     "output_type": "stream",
     "text": [
      "Label: 4\n"
     ]
    },
    {
     "data": {
      "image/png": "[encoded data removed]",
      "text/plain": [
       "<matplotlib.figure.Figure at 0x11718cc50>"
      ]
     },
     "metadata": {},
     "output_type": "display_data"
    },
    {
     "data": {
      "text/plain": [
       "<function __main__.show_image>"
      ]
     },
     "execution_count": 1,
     "metadata": {},
     "output_type": "execute_result"
    }
   ],
   "source": [
    "import csv\n",
    "import numpy as np\n",
    "import matplotlib.pyplot as plt\n",
    "from ipywidgets import interact\n",
    "import pandas as pd\n",
    "from pylab import *\n",
    "import scipy\n",
    "import sklearn\n",
    "from sklearn.metrics.pairwise import euclidean_distances\n",
    "import itertools\n",
    "\n",
    "dataset=pd.read_csv('train.csv', sep=',',header=0)\n",
    "label=list(dataset.label)\n",
    "data=dataset.iloc[:,1:]\n",
    "def show_image(n):\n",
    "    print(\"Label:\",label[n])\n",
    "    t= data.iloc[n].values.reshape(28,28)\n",
    "    plt.matshow(t, cmap='gray')\n",
    "    plt.show()\n",
    "interact(show_image,n=(0,41999))\n"
   ]
  },
  {
   "cell_type": "code",
   "execution_count": 56,
   "metadata": {},
   "outputs": [
    {
     "data": {
      "image/png": "[encoded data removed]",
      "text/plain": [
       "<matplotlib.figure.Figure at 0x13b1730b8>"
      ]
     },
     "metadata": {},
     "output_type": "display_data"
    }
   ],
   "source": [
    "from collections import Counter\n",
    "def show_prior_prob():\n",
    "    labels, counts = zip(*Counter(label).items())\n",
    "    total = sum(counts)\n",
    "    pp = list(map(lambda x: x/float(total), counts))\n",
    "    sorted_pp = [pp for _,pp in sorted(zip(labels,pp))]\n",
    "    plt.bar(labels,sorted_pp,1)\n",
    "    plt.xticks(arange(10),arange(10))\n",
    "    plt.show()\n",
    "show_prior_prob()\n"
   ]
  },
  {
   "cell_type": "code",
   "execution_count": 6,
   "metadata": {},
   "outputs": [
    {
     "name": "stdout",
     "output_type": "stream",
     "text": [
      "Predicted Value :1 Actual value :0\n",
      "*\n",
      "Predicted Value :7 Actual value :1\n",
      "*\n",
      "Predicted Value :9 Actual value :2\n",
      "*\n",
      "Predicted Value :4 Actual value :3\n",
      "*\n",
      "Predicted Value :8 Actual value :4\n",
      "*\n",
      "Predicted Value :3 Actual value :5\n",
      "*\n",
      "Predicted Value :0 Actual value :6\n",
      "*\n",
      "Predicted Value :3 Actual value :7\n",
      "*\n",
      "Predicted Value :0 Actual value :8\n",
      "*\n",
      "Predicted Value :9 Actual value :9\n"
     ]
    }
   ],
   "source": [
    "def mostNearestNeighbor(inX, dataMat, labelMat):\n",
    "    dataSetSize = dataMat.shape[0]\n",
    "    diffMat = tile(inX,(dataSetSize,1)) - dataMat\n",
    "    sqDiffMat = diffMat**2\n",
    "    sqDistances = sqDiffMat.sum(axis=1)\n",
    "    distances = list(sqDistances**0.5)\n",
    "    targetIndex = distances.index(min(distances))\n",
    "    return min(distances),targetIndex, label[targetIndex]\n",
    "\n",
    "def findUniqDigitsIndex():\n",
    "    res = []\n",
    "    for i in range(10):\n",
    "        res.append(label.index(i))\n",
    "    return res\n",
    "\n",
    "def findNearestNeighborQuestion():\n",
    "    for i in findUniqDigitsIndex():\n",
    "        dataRemain = np.delete(array(data),(i), axis=0)\n",
    "        labelRemain = np.delete(array(label),(i), axis=0)\n",
    "        minDistance, predictedIndex, predictedValue = mostNearestNeighbor(data.iloc[i],dataRemain,labelRemain)\n",
    "        print(\"Predicted Value :\" + str(predictedValue) + \" Actual value :\" + str(label[i]))\n",
    "        if str(predictedValue)!=str(label[i]):\n",
    "            print(\"*\")\n",
    "findNearestNeighborQuestion()"
   ]
  },
  {
   "cell_type": "code",
   "execution_count": 13,
   "metadata": {},
   "outputs": [
    {
     "data": {
      "image/png": "[encoded data removed]",
      "text/plain": [
       "<matplotlib.figure.Figure at 0x1919ee4a8>"
      ]
     },
     "metadata": {},
     "output_type": "display_data"
    }
   ],
   "source": [
    "genuine,impostor =[],[]\n",
    "def plotHistogram():\n",
    "    dataMatBinary,labelMatBinary = [],[]\n",
    "    for i in range(len(label)):\n",
    "        if label[i]==0 or label[i]==1:\n",
    "            dataMatBinary.append(data.iloc[i])\n",
    "            labelMatBinary.append(label[i])\n",
    "    dists = sklearn.metrics.pairwise.euclidean_distances(dataMatBinary)\n",
    "    for (i_index,i),(j_index,j) in itertools.combinations(enumerate(labelMatBinary), 2):\n",
    "        genuine.append(dists[i_index][j_index]) if i==j else impostor.append(dists[i_index][j_index])\n",
    "    bins = 100\n",
    "    labels = plt.subplot()\n",
    "    labels.set_xlabel(\"distance\")\n",
    "    labels.set_ylabel(\"count\")\n",
    "    plt.hist(genuine, bins, alpha=0.5, label='genuine')\n",
    "    plt.hist(impostor, bins, alpha=0.5, label='impostor')\n",
    "    plt.legend(loc='upper right')\n",
    "    plt.show()\n",
    "    return dists\n",
    "    \n",
    "dists = plotHistogram()"
   ]
  },
  {
   "cell_type": "code",
   "execution_count": 25,
   "metadata": {},
   "outputs": [
    {
     "name": "stdout",
     "output_type": "stream",
     "text": [
      "equal error rate:  0.810559000136914\n",
      "guess rate:  0.4980962783079905\n"
     ]
    },
    {
     "data": {
      "image/png": "[encoded data removed]",
      "text/plain": [
       "<matplotlib.figure.Figure at 0x24e5c6908>"
      ]
     },
     "metadata": {},
     "output_type": "display_data"
    }
   ],
   "source": [
    "def plotROC(genuine,impostor):\n",
    "    tprarray,fprarray = [],[]\n",
    "    genuine = np.array(genuine)\n",
    "    impostor = np.array(impostor)\n",
    "    for distance in range(int(amin(dists)),int(amax(dists)),50):\n",
    "        tp = len(impostor[impostor>= distance])\n",
    "        fp = len(genuine[genuine>= distance])\n",
    "        fn = len(impostor) - tp\n",
    "        tn = len(genuine) - fp\n",
    "        tpr = tp / len(impostor)\n",
    "        fpr = fp / len(genuine)\n",
    "        tprarray.append( tpr )\n",
    "        fprarray.append( fpr )\n",
    "        if abs(fpr-1+tpr) < 0.03:\n",
    "            eer = (tp+tn)/(tp+tn+fn+fp)\n",
    "            print(\"equal error rate: \",eer)\n",
    "    print(\"guess rate: \",len(impostor)/(len(impostor)+len(genuine)))\n",
    "    \n",
    "    plt.plot(fprarray,tprarray)\n",
    "    plt.plot([0,1],[0,1],color='navy',linestyle='--')\n",
    "    plt.xlabel('FPR')\n",
    "    plt.ylabel('TPR')\n",
    "    plt.show()\n",
    "    \n",
    "plotROC(genuine,impostor)"
   ]
  },
  {
   "cell_type": "code",
   "execution_count": 2,
   "metadata": {},
   "outputs": [
    {
     "name": "stderr",
     "output_type": "stream",
     "text": [
      "/anaconda/lib/python3.6/site-packages/sklearn/cross_validation.py:44: DeprecationWarning: This module was deprecated in version 0.18 in favor of the model_selection module into which all the refactored classes and functions are moved. Also note that the interface of the new CV iterators are different from that of this module. This module will be removed in 0.20.\n",
      "  \"This module will be removed in 0.20.\", DeprecationWarning)\n"
     ]
    },
    {
     "name": "stdout",
     "output_type": "stream",
     "text": [
      "K is : 3\n",
      "[[40  0  1  0  0  0  1  0  0  0]\n",
      " [ 0 33  4  1  0  1  1  2  1  1]\n",
      " [ 0  0 27  1  0  0  1  0  0  0]\n",
      " [ 0  0  1 26  0  4  0  0  4  0]\n",
      " [ 0  0  0  0 27  0  1  1  0  2]\n",
      " [ 0  0  1  3  0 16  1  0  0  0]\n",
      " [ 3  0  1  1  0  3 27  0  0  0]\n",
      " [ 0  0  1  1  0  0  0 28  1  6]\n",
      " [ 0  0  0  1  1  0  0  0 19  1]\n",
      " [ 0  0  1  1  3  1  0  3  2 27]]\n",
      "0.8083832335329342  is the success rate\n",
      "K is : 3\n",
      "[[27  0  1  0  0  0  1  0  0  1]\n",
      " [ 0 34  3  0  1  1  1  2  2  1]\n",
      " [ 0  1 37  0  0  0  0  0  0  1]\n",
      " [ 0  0  0 23  0  3  0  0  5  0]\n",
      " [ 0  0  1  0 26  0  0  0  0  2]\n",
      " [ 0  0  0  2  0 33  0  0  1  0]\n",
      " [ 0  0  0  0  1  0 27  0  1  0]\n",
      " [ 0  0  4  1  4  0  0 22  1  2]\n",
      " [ 0  0  1  0  0  0  0  0 20  0]\n",
      " [ 0  0  1  0  8  0  0  5  1 24]]\n",
      "0.8198198198198198  is the success rate\n",
      "K is : 3\n",
      "[[36  0  1  0  0  0  1  0  0  1]\n",
      " [ 0 27  1  1  1  0  0  3  4  1]\n",
      " [ 0  0 34  1  0  0  0  0  0  1]\n",
      " [ 0  0  0 22  0  3  0  0  2  0]\n",
      " [ 0  0  0  0 22  0  0  1  0  1]\n",
      " [ 0  0  0  2  0 22  0  0  3  1]\n",
      " [ 1  0  0  0  2  0 35  0  0  0]\n",
      " [ 0  0  1  0  1  0  0 34  0  1]\n",
      " [ 0  1  2  2  0  1  0  1 23  0]\n",
      " [ 0  0  0  1  5  1  0  3  3 23]]\n",
      "0.8348348348348348  is the success rate\n"
     ]
    }
   ],
   "source": [
    "def nearestNeighborK(inX, dataMat, labelMat, k):\n",
    "    dataSetSize = dataMat.shape[0]\n",
    "    diffMat = tile(inX,(dataSetSize,1)) - dataMat\n",
    "    sqDiffMat = diffMat**2\n",
    "    sqDistances = sqDiffMat.sum(axis=1)\n",
    "    distances = sqDistances**0.5\n",
    "    sortedDistIndicies = distances.argsort()\n",
    "    classCount={}\n",
    "    for i in range(1,k+1):\n",
    "        voteIlabel = labelMat[sortedDistIndicies[i]]\n",
    "        classCount[voteIlabel] = classCount.get(voteIlabel,0) + 1\n",
    "    return max(classCount, key=classCount.get)\n",
    "\n",
    "from sklearn.metrics import confusion_matrix\n",
    "from sklearn import cross_validation\n",
    "\n",
    "def evaluate(*fold):\n",
    "    # Evaluate an SVM classifier\n",
    "    train_indices, test_indices, k = fold\n",
    "    local_data = np.array(data)\n",
    "    local_label = np.array(label)\n",
    "    X_train = local_data[train_indices]\n",
    "    Y_train = local_label[train_indices]\n",
    "    X_test = local_data[test_indices]\n",
    "    Y_test = local_label[test_indices]\n",
    "    success = 0\n",
    "    Y_pred = []\n",
    "    for i in range(0,len(X_test)):\n",
    "        Y_pred.append(nearestNeighborK(X_test[i],X_train,Y_train,k))\n",
    "        success+= (Y_pred[i]==Y_test[i])\n",
    "    print(confusion_matrix(array(Y_pred), Y_test))\n",
    "    return float(success)/len(X_test)\n",
    "\n",
    "def performCrossValidation(sampleSize = 1000):\n",
    "    size = len(data)\n",
    "    if sampleSize != 0:\n",
    "        size = sampleSize\n",
    "\n",
    "    for train, test in (cross_validation.KFold(size, n_folds=3)):\n",
    "        for k in range(3,13,2):\n",
    "            print(\"\\n\\nK is :\", k)\n",
    "            print(evaluate(train,test,k), \" is the success rate\")\n",
    "\n",
    "def printConfusionMatrix(k=3,sampleSize=1000):\n",
    "    size = len(data)\n",
    "    if sampleSize != 0:\n",
    "        size = sampleSize\n",
    "\n",
    "    for train, test in (cross_validation.KFold(size, n_folds=k)):\n",
    "        print(\"K is :\", k)\n",
    "        print(evaluate(train,test,k) , \" is the success rate\")\n",
    "\n",
    "printConfusionMatrix(k=3,sampleSize=1000)"
   ]
  },
  {
   "cell_type": "code",
   "execution_count": null,
   "metadata": {
    "collapsed": true
   },
   "outputs": [],
   "source": []
  }
 ],
 "metadata": {
  "kernelspec": {
   "display_name": "Python 3",
   "language": "python",
   "name": "python3"
  },
  "language_info": {
   "codemirror_mode": {
    "name": "ipython",
    "version": 3
   },
   "file_extension": ".py",
   "mimetype": "text/x-python",
   "name": "python",
   "nbconvert_exporter": "python",
   "pygments_lexer": "ipython3",
   "version": "3.6.1"
  }
 },
 "nbformat": 4,
 "nbformat_minor": 2
}
