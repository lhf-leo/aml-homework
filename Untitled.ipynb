{
 "cells": [
  {
   "cell_type": "code",
   "execution_count": 21,
   "metadata": {},
   "outputs": [
    {
     "name": "stdout",
     "output_type": "stream",
     "text": [
      "Label: 4\n"
     ]
    },
    {
     "data": {
      "image/png": "[encoded data removed]",
      "text/plain": [
       "<matplotlib.figure.Figure at 0x13820b198>"
      ]
     },
     "metadata": {},
     "output_type": "display_data"
    },
    {
     "data": {
      "text/plain": [
       "<function __main__.show_image>"
      ]
     },
     "execution_count": 21,
     "metadata": {},
     "output_type": "execute_result"
    }
   ],
   "source": [
    "import csv\n",
    "import numpy as np\n",
    "import matplotlib.pyplot as plt\n",
    "from ipywidgets import interact\n",
    "import pandas as pd\n",
    "from pylab import *\n",
    "import scipy\n",
    "from sklearn.metrics.pairwise import euclidean_distances\n",
    "\n",
    "dataset=pd.read_csv('train.csv', sep=',',header=0)\n",
    "label=list(dataset.label)\n",
    "data=dataset.iloc[:,1:]\n",
    "def show_image(n):\n",
    "    print(\"Label:\",label[n])\n",
    "    t= data.iloc[n].values.reshape(28,28)\n",
    "    plt.matshow(t, cmap='gray')\n",
    "    plt.show()\n",
    "interact(show_image,n=(0,41999))\n"
   ]
  },
  {
   "cell_type": "code",
   "execution_count": 56,
   "metadata": {},
   "outputs": [
    {
     "data": {
      "image/png": "[encoded data removed]",
      "text/plain": [
       "<matplotlib.figure.Figure at 0x13b1730b8>"
      ]
     },
     "metadata": {},
     "output_type": "display_data"
    }
   ],
   "source": [
    "from collections import Counter\n",
    "def show_prior_prob():\n",
    "    labels, counts = zip(*Counter(label).items())\n",
    "    total = sum(counts)\n",
    "    pp = list(map(lambda x: x/float(total), counts))\n",
    "    sorted_pp = [pp for _,pp in sorted(zip(labels,pp))]\n",
    "    plt.bar(labels,sorted_pp,1)\n",
    "    plt.xticks(arange(10),arange(10))\n",
    "    plt.show()\n",
    "show_prior_prob()\n"
   ]
  },
  {
   "cell_type": "code",
   "execution_count": 6,
   "metadata": {},
   "outputs": [
    {
     "name": "stdout",
     "output_type": "stream",
     "text": [
      "Predicted Value :1 Actual value :0\n",
      "*\n",
      "Predicted Value :7 Actual value :1\n",
      "*\n",
      "Predicted Value :9 Actual value :2\n",
      "*\n",
      "Predicted Value :4 Actual value :3\n",
      "*\n",
      "Predicted Value :8 Actual value :4\n",
      "*\n",
      "Predicted Value :3 Actual value :5\n",
      "*\n",
      "Predicted Value :0 Actual value :6\n",
      "*\n",
      "Predicted Value :3 Actual value :7\n",
      "*\n",
      "Predicted Value :0 Actual value :8\n",
      "*\n",
      "Predicted Value :9 Actual value :9\n"
     ]
    }
   ],
   "source": [
    "def mostNearestNeighbor(inX, dataMat, labelMat):\n",
    "    dataSetSize = dataMat.shape[0]\n",
    "    diffMat = tile(inX,(dataSetSize,1)) - dataMat\n",
    "    sqDiffMat = diffMat**2\n",
    "    sqDistances = sqDiffMat.sum(axis=1)\n",
    "    distances = list(sqDistances**0.5)\n",
    "    targetIndex = distances.index(min(distances))\n",
    "    return min(distances),targetIndex, label[targetIndex]\n",
    "\n",
    "def findUniqDigitsIndex():\n",
    "    res = []\n",
    "    for i in range(10):\n",
    "        res.append(label.index(i))\n",
    "    return res\n",
    "\n",
    "def findNearestNeighborQuestion():\n",
    "    for i in findUniqDigitsIndex():\n",
    "        dataRemain = np.delete(array(data),(i), axis=0)\n",
    "        labelRemain = np.delete(array(label),(i), axis=0)\n",
    "        minDistance, predictedIndex, predictedValue = mostNearestNeighbor(data.iloc[i],dataRemain,labelRemain)\n",
    "        print(\"Predicted Value :\" + str(predictedValue) + \" Actual value :\" + str(label[i]))\n",
    "        if str(predictedValue)!=str(label[i]):\n",
    "            print(\"*\")\n",
    "findNearestNeighborQuestion()"
   ]
  },
  {
   "cell_type": "code",
   "execution_count": 45,
   "metadata": {},
   "outputs": [
    {
     "data": {
      "image/png": "[encoded data removed]",
      "text/plain": [
       "<matplotlib.figure.Figure at 0x114fc0ef0>"
      ]
     },
     "metadata": {},
     "output_type": "display_data"
    }
   ],
   "source": [
    "def plotHistogramAndDrawROC():\n",
    "\n",
    "    dataMatBinary = []; labelMatBinary = []\n",
    "\n",
    "    for i in range(len(label)):\n",
    "        if label[i]==0 or label[i]==1:\n",
    "            dataMatBinary.append(data.iloc[i])\n",
    "            labelMatBinary.append(label[i])\n",
    "\n",
    "    dists = sklearn.metrics.pairwise.euclidean_distances(dataMatBinary)\n",
    "    genuine = []\n",
    "    impostor = []\n",
    "    dataMatBinarySize = len(dataMatBinary)\n",
    "\n",
    "    for i in range(dataMatBinarySize-1):\n",
    "        for j in range(i+1,dataMatBinarySize):\n",
    "            if labelMatBinary[i]==labelMatBinary[j]:\n",
    "                genuine.append(dists[i][j])\n",
    "            else:\n",
    "                impostor.append(dists[i][j])\n",
    "\n",
    "    bins = 100\n",
    "    labels = plt.subplot()\n",
    "    labels.set_xlabel(\"distance\")\n",
    "    labels.set_ylabel(\"count\")\n",
    "    plt.hist(genuine, bins, alpha=0.5, label='genuine')\n",
    "    plt.hist(impostor, bins, alpha=0.5, label='impostor')\n",
    "    plt.legend(loc='upper right')\n",
    "    plt.show()\n",
    "    \n",
    "plotHistogramAndDrawROC()\n"
   ]
  },
  {
   "cell_type": "code",
   "execution_count": null,
   "metadata": {
    "collapsed": true
   },
   "outputs": [],
   "source": []
  },
  {
   "cell_type": "code",
   "execution_count": 5,
   "metadata": {},
   "outputs": [],
   "source": [
    "def nearestKNeighbor(target, data, label):\n",
    "    dataSetSize = data.shape[0]\n",
    "    diffMat = tile(inX,(dataSetSize,1)) - data\n",
    "    sqDiffMat = diffMat**2\n",
    "    sqDistances = sqDiffMat.sum(axis=1)\n",
    "    distances = sqDistances**0.5\n",
    "    sortedDistIndicies = distances.argsort()\n",
    "    classCount={}\n",
    "    for i in range(1,k+1):\n",
    "        voteIlabel = labelMat[sortedDistIndicies[i]]\n",
    "        classCount[voteIlabel] = classCount.get(voteIlabel,0) + 1\n",
    "    sortedClassCount = sorted(classCount.iteritems(),key=operator.itemgetter(1), reverse=True)\n",
    "    return sortedClassCount[0][0]\n",
    "\n"
   ]
  }
 ],
 "metadata": {
  "kernelspec": {
   "display_name": "Python 3",
   "language": "python",
   "name": "python3"
  },
  "language_info": {
   "codemirror_mode": {
    "name": "ipython",
    "version": 3
   },
   "file_extension": ".py",
   "mimetype": "text/x-python",
   "name": "python",
   "nbconvert_exporter": "python",
   "pygments_lexer": "ipython3",
   "version": "3.6.1"
  }
 },
 "nbformat": 4,
 "nbformat_minor": 2
}
