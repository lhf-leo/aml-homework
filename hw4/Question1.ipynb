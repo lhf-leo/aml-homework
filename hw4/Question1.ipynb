{
 "cells": [
  {
   "cell_type": "markdown",
   "metadata": {},
   "source": [
    "#### a. Describe the structure of the network. How many layers does this network have? What is the purpose of each layer?"
   ]
  },
  {
   "cell_type": "markdown",
   "metadata": {},
   "source": [
    "There a total of 9 layers in this network. The first layer is the input layer which takes the coordinate of a pixel. In addtion, there are 7 hidden layers, and each of them have 20 neurons by default. Plus an output layer, which has 3 neurons corresponding to r,g,b values of the chosen pixel. Each hidden layers are aggragating the informations provided by previous layer and organize them into a meaningful way to the next layer."
   ]
  },
  {
   "cell_type": "markdown",
   "metadata": {},
   "source": [
    "#### b. What does “Loss” mean here? What is the actual loss function? You may need to consult the source code, which is available on Github."
   ]
  },
  {
   "cell_type": "markdown",
   "metadata": {},
   "source": [
    "The \"loss\" here indicates an esitmate of smooth loss caculated by **0.99*(the previous smooth loss) + 0.01*(the average loss in the current iteartion)**. The actual loss is the class negative log likelihood shown in convnetjs/src/convnet_layers_loss.js file."
   ]
  },
  {
   "cell_type": "markdown",
   "metadata": {},
   "source": [
    "#### c. Plot the loss over time, after letting it run for 5,000 iterations. How good does the network eventually get?"
   ]
  },
  {
   "cell_type": "markdown",
   "metadata": {},
   "source": [
    "| iteration #| loss   |\n",
    "|------------|--------|\n",
    "|1           |0.1     |\n",
    "|30          |0.087   |\n",
    "|99          |0.055   |\n",
    "|180         |0.034   |\n",
    "|299         |0.020   |\n",
    "|399         |0.015   |\n",
    "|499         |0.013   |\n",
    "|599         |0.012   |\n",
    "|699         |0.011   |\n",
    "|799         |0.010   |\n",
    "|899         |0.010   |\n",
    "|1699        |0.0076  |\n",
    "|1999        |0.0071  |\n",
    "|2999        |0.0062  |\n",
    "|3999        |0.0057  |\n",
    "|4999        |0.0053  |\n",
    "For the cat image with default learning rate being 0.01. It starts with 0.1 and decreases rapidly to 0.01 for the first 900 iterations. And then decrease slower and slower as the iteration number increases. In 5000 iterations, it reaches 0.0053. And the image is look pretty much like a cat at this point. "
   ]
  },
  {
   "cell_type": "markdown",
   "metadata": {},
   "source": [
    "#### d. Can you make the network converge to a lower loss function by lowering the learning rate every 1,000 iterations? (Some learning rate schedules, for example, halve the learning rate every n iterations. Does this technique let the network converge to a lower training loss?)"
   ]
  },
  {
   "cell_type": "markdown",
   "metadata": {},
   "source": [
    "#### e. Lesion study. The text box contains a small snippet of Javascript code that initializes the network. You can change the network structure by clicking the “Reload network” button, which simply evaluates the code. Let’s perform some brain surgery: Try commenting out each layer, one by one. Report some results: How many layers can you drop before the accuracy drops below a useful value? How few hidden units can you get away with before quality drops noticeably?"
   ]
  },
  {
   "cell_type": "markdown",
   "metadata": {},
   "source": [
    "#### f. Try adding a few layers by copy+pasting lines in the network definition. Can you noticeably increase the accuracy of the network?"
   ]
  },
  {
   "cell_type": "code",
   "execution_count": null,
   "metadata": {
    "collapsed": true
   },
   "outputs": [],
   "source": []
  }
 ],
 "metadata": {
  "kernelspec": {
   "display_name": "Python 3",
   "language": "python",
   "name": "python3"
  },
  "language_info": {
   "codemirror_mode": {
    "name": "ipython",
    "version": 3
   },
   "file_extension": ".py",
   "mimetype": "text/x-python",
   "name": "python",
   "nbconvert_exporter": "python",
   "pygments_lexer": "ipython3",
   "version": "3.6.1"
  }
 },
 "nbformat": 4,
 "nbformat_minor": 2
}
