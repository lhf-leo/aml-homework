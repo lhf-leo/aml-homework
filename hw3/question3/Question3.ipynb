{
 "cells": [
  {
   "cell_type": "code",
   "execution_count": 142,
   "metadata": {},
   "outputs": [
    {
     "data": {
      "image/png": "[encoded data removed]",
      "text/plain": [
       "<matplotlib.figure.Figure at 0x10f03aa58>"
      ]
     },
     "metadata": {},
     "output_type": "display_data"
    }
   ],
   "source": [
    "data=[[], []]\n",
    "f=open('faithful.dat')\n",
    "for line in f:\n",
    "    line=line.split()\n",
    "    if not line or not line[0].isdigit(): continue\n",
    "    data[0].append(float(line[1]))\n",
    "    data[1].append(int(line[2]))\n",
    "data=np.array(data)\n",
    "import matplotlib.pyplot as plt\n",
    "plt.plot(data[0], data[1], 'ro', alpha=0.5)\n",
    "plt.xlabel('eruption time')\n",
    "plt.ylabel('waiting time')\n",
    "plt.show()"
   ]
  },
  {
   "cell_type": "code",
   "execution_count": 158,
   "metadata": {},
   "outputs": [],
   "source": [
    "import random\n",
    "def random_start(data):\n",
    "    mu=np.array([data.T[i] for i in random.sample(range(len(data[0])),2)])\n",
    "#     sigma=np.array([[[1,0],[0,1]],[[1,0],[0,1]]])\n",
    "    sigma = []\n",
    "    for k in range(2): sigma.append(np.cov(data.T[:20+int(random.random()*(len(data.T)-20))].T))\n",
    "    print(sigma[0].shape)\n",
    "    pi=0.5\n",
    "    return mu,sigma,pi"
   ]
  },
  {
   "cell_type": "code",
   "execution_count": 160,
   "metadata": {
    "collapsed": true
   },
   "outputs": [],
   "source": [
    "import numpy as np\n",
    "# def gaussian(x, mu, sigma):\n",
    "#     dimension = len(x)\n",
    "#     cov_det = np.linalg.det(sigma)\n",
    "#     central_x = np.matrix(x - mu)\n",
    "#     cov_inverse = np.linalg.inv(sigma)\n",
    "#     left = 1 / np.sqrt(((2 * np.pi) ** dimension) * cov_det)\n",
    "#     right = -1 / 2 * central_x * cov_inverse * central_x.T\n",
    "#     ret = left * np.exp(right)\n",
    "#     return float(ret)\n",
    "def gaussian(x, mu, sigma):\n",
    "    dim = len(x)\n",
    "    norm_factor = (2*np.pi)**dim\n",
    "\n",
    "    norm_factor *= np.linalg.det(sigma)\n",
    "    norm_factor = 1.0/np.sqrt(norm_factor)\n",
    "\n",
    "    x_mu = np.matrix(x-mu)\n",
    "\n",
    "    rs = norm_factor*np.exp(-0.5*x_mu*np.linalg.inv(sigma)*x_mu.T)\n",
    "    return rs\n",
    "\n",
    "def e_step(data, mu, sigma, pi):    \n",
    "    gamma=[]\n",
    "    for i in range(len(data[0])):\n",
    "        likelihood = (((1-pi)*gaussian([data[0][i],data[1][i]], mu[0], sigma[0])) + (pi*gaussian([data[0][i],data[1][i]], mu[1], sigma[1]))) \n",
    "        gamma.append(pi*gaussian(data.T[i], mu[1], sigma[1])/likelihood)\n",
    "    return gamma\n",
    "\n",
    "def m_step(data, gamma):\n",
    "    gamma=[float(matrix) for matrix in gamma]\n",
    "    sample_size = data.shape[1]    \n",
    "    mu = np.zeros((2, 2))\n",
    "    sigma = np.zeros((2, 2, 2))\n",
    "    sumGamma=0\n",
    "    for i in range(2):\n",
    "        for n in range(sample_size):\n",
    "            sumGamma += gamma[n]\n",
    "            mu[i] += float(1-gamma[n])*data.T[n]\n",
    "        mu[i] /= (sample_size - sumGamma)\n",
    "\n",
    "        for n in range(sample_size):\n",
    "            x_mu = np.zeros((1,2))+data.T[n]-mu[i]\n",
    "            sigma[i] += ((1-gamma[n]))*x_mu*x_mu.T\n",
    "        sigma[i] /= (sample_size - sumGamma)\n",
    "        pi = sumGamma/sample_size        \n",
    "        \n",
    "    return mu, sigma, pi"
   ]
  },
  {
   "cell_type": "code",
   "execution_count": 165,
   "metadata": {},
   "outputs": [
    {
     "name": "stdout",
     "output_type": "stream",
     "text": [
      "(2, 2)\n"
     ]
    },
    {
     "name": "stderr",
     "output_type": "stream",
     "text": [
      "/anaconda/lib/python3.6/site-packages/ipykernel_launcher.py:16: RuntimeWarning: invalid value encountered in sqrt\n",
      "  app.launch_new_instance()\n",
      "/anaconda/lib/python3.6/site-packages/numpy/linalg/linalg.py:1804: RuntimeWarning: invalid value encountered in det\n",
      "  r = _umath_linalg.det(a, signature=signature)\n"
     ]
    }
   ],
   "source": [
    "mu,sigma,pi = random_start(data)\n",
    "\n",
    "# Run it 50 times to see the mu trajectory\n",
    "mu_trajectory = []\n",
    "iteration = []\n",
    "mu_trajectory.append(mu)\n",
    "for i in range(50):\n",
    "    gamma = e_step(data,mu,sigma,pi)\n",
    "    mu,sigma,pi = m_step(data,gamma)\n",
    "    iteration.append(i)\n",
    "    mu_trajectory.append(mu)"
   ]
  },
  {
   "cell_type": "code",
   "execution_count": 163,
   "metadata": {},
   "outputs": [
    {
     "data": {
      "image/png": "[encoded data removed]",
      "text/plain": [
       "<matplotlib.figure.Figure at 0x10f07a240>"
      ]
     },
     "metadata": {},
     "output_type": "display_data"
    }
   ],
   "source": [
    "mu_trajectory = np.array(mu_trajectory)\n",
    "\n",
    "\n",
    "plt.scatter(mu_trajectory[:,0,0],mu_trajectory[:,0,1], alpha=0.5, color='red')\n",
    "plt.scatter(mu_trajectory[:,1,0],mu_trajectory[:,1,1], alpha=0.5, color='blue')\n",
    "plt.scatter(data.T[:,0], data.T[:,1], alpha=0.1,color='grey')\n",
    "plt.show()\n",
    "\n"
   ]
  }
 ],
 "metadata": {
  "kernelspec": {
   "display_name": "Python 3",
   "language": "python",
   "name": "python3"
  },
  "language_info": {
   "codemirror_mode": {
    "name": "ipython",
    "version": 3
   },
   "file_extension": ".py",
   "mimetype": "text/x-python",
   "name": "python",
   "nbconvert_exporter": "python",
   "pygments_lexer": "ipython3",
   "version": "3.6.1"
  }
 },
 "nbformat": 4,
 "nbformat_minor": 2
}
