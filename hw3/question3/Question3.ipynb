{
 "cells": [
  {
   "cell_type": "code",
   "execution_count": 16,
   "metadata": {},
   "outputs": [
    {
     "data": {
      "image/png": "[encoded data removed]",
      "text/plain": [
       "<matplotlib.figure.Figure at 0x10f0474a8>"
      ]
     },
     "metadata": {},
     "output_type": "display_data"
    }
   ],
   "source": [
    "data=[[], []]\n",
    "f=open('faithful.dat')\n",
    "for line in f:\n",
    "    line=line.split()\n",
    "    if not line or not line[0].isdigit(): continue\n",
    "    data[0].append(float(line[1]))\n",
    "    data[1].append(int(line[2]))\n",
    "\n",
    "import matplotlib.pyplot as plt\n",
    "plt.plot(data[0], data[1], 'ro', alpha=0.5)\n",
    "plt.xlabel('eruption time')\n",
    "plt.ylabel('waiting time')\n",
    "plt.show()"
   ]
  },
  {
   "cell_type": "code",
   "execution_count": 29,
   "metadata": {},
   "outputs": [
    {
     "data": {
      "text/plain": [
       "(1.3742186790434028,\n",
       " 1.1989461392116363,\n",
       " [[1, 0], [0, 1]],\n",
       " [[1, 0], [0, 1]],\n",
       " 0.5)"
      ]
     },
     "execution_count": 29,
     "metadata": {},
     "output_type": "execute_result"
    }
   ],
   "source": [
    "import random\n",
    "# def random_parameters(data):\n",
    "#     cols = (data.shape)[1]\n",
    "     \n",
    "#     # Random assignment of mu's between 0 and 1\n",
    "#     mu = np.zeros((K, cols))\n",
    "#     for k in range(K):\n",
    "#         for l in range(cols):\n",
    "#             mu[k][l]=rd.random()   \n",
    "    \n",
    "#     # Sigma values are calculated by selecting a random subset of \n",
    "#     # data array and taking the covariance of it\n",
    "#     sigma = []\n",
    "#     for k in range(2):\n",
    "#         sigma.append(np.cov(data[:20+int(rd.random()*(len(data)-20))].T))\n",
    "    \n",
    "#     # pi is a random array of size 2 summing up to 1\n",
    "#     pi = np.zeros(2)\n",
    "#     pi[0] = rd.random()\n",
    "#     pi[1] = 1- pi[0]\n",
    "\n",
    "#     return mu, sigma, pi\n",
    "def random_start(data):\n",
    "    x_min,x_max=sorted(data[0])[0],sorted(data[0])[-1]\n",
    "    mu1,mu2=[x_min+random.random()*(x_max-x_min) for i in range(2)]\n",
    "    sigma1,sigma2=[[1,0],[0,1]],[[1,0],[0,1]]\n",
    "    pi=0.5\n",
    "    return mu1,mu2,sigma1,sigma2,pi\n",
    "random_start([[1,2],[1,2]])"
   ]
  },
  {
   "cell_type": "code",
   "execution_count": null,
   "metadata": {
    "collapsed": true
   },
   "outputs": [],
   "source": [
    "def gaussian(x, mu, sigma):\n",
    "    dim = len(x)\n",
    "    norm_factor = (2*np.pi)**dim\n",
    "    norm_factor *= np.linalg.det(sigma)\n",
    "    norm_factor = 1.0/np.sqrt(norm_factor)\n",
    "    x_mu = np.matrix(x-mu)\n",
    "    rs = norm_factor*np.exp(-0.5*x_mu*np.linalg.inv(sigma)*x_mu.T)\n",
    "    return rs\n",
    "def e_step(data, mu, sigma, pi):    \n",
    "    gamma=[]\n",
    "    for i in range(len(data[0])):\n",
    "        likelihood = (((1-pi)*gaussian([data[0][i],data[1][i]], mu1, sigma1)) + (pi*gaussian([data[0][i],data[1][i]], mu2, sigma2))) \n",
    "        gamma.append(pi[0]*gaussian(data[i], mu[0], sigma[0])/likelihood)\n",
    "    \n",
    "    return resp"
   ]
  },
  {
   "cell_type": "code",
   "execution_count": null,
   "metadata": {
    "collapsed": true
   },
   "outputs": [],
   "source": []
  }
 ],
 "metadata": {
  "kernelspec": {
   "display_name": "Python 3",
   "language": "python",
   "name": "python3"
  },
  "language_info": {
   "codemirror_mode": {
    "name": "ipython",
    "version": 3
   },
   "file_extension": ".py",
   "mimetype": "text/x-python",
   "name": "python",
   "nbconvert_exporter": "python",
   "pygments_lexer": "ipython3",
   "version": "3.6.1"
  }
 },
 "nbformat": 4,
 "nbformat_minor": 2
}
