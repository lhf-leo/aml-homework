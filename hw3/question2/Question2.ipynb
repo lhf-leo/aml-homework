{
 "cells": [
  {
   "cell_type": "code",
   "execution_count": 1,
   "metadata": {},
   "outputs": [
    {
     "data": {
      "image/png": "[encoded data removed]",
      "text/plain": [
       "<matplotlib.figure.Figure at 0x10f17b7b8>"
      ]
     },
     "metadata": {},
     "output_type": "display_data"
    }
   ],
   "source": [
    "import numpy as np\n",
    "from sklearn.cluster import KMeans\n",
    "import matplotlib.pyplot as plt\n",
    "from scipy.spatial.distance import cdist\n",
    "\n",
    "docWords=np.load(\"science2k-doc-word.npy\")\n",
    "distortions = []\n",
    "K=[1,2,3,5,8,12,16,20]\n",
    "for k in K:\n",
    "    kmeanModel = KMeans(n_clusters=k).fit(docWords)\n",
    "    distortions.append(sum(np.min(cdist(docWords, kmeanModel.cluster_centers_, 'euclidean'), axis=1)) / docWords.shape[0])\n",
    "\n",
    "plt.plot(K, distortions, 'bx-')\n",
    "plt.xlabel('k')\n",
    "plt.ylabel('Distortion')\n",
    "plt.title('The Elbow Method showing the optimal k')\n",
    "plt.show()"
   ]
  },
  {
   "cell_type": "markdown",
   "metadata": {},
   "source": [
    "We choose k = 3 with respect to the following reason. According to the elbow method, which determines the k by taking consideration of the percentage of variance explained as a function of the number of clusters. k = 5 is also a potential choice. However, by inspecting the top 10 example within each clusters when we use k = 3, k = 5. When k = 3, we find that there are two groups are biology-related and geography-related respectively, also a group which we are not able to identify which is very elusive. But when k = 5, there is clearly two groups that is biology-related that imply we get too large k. In addition, it is better to have uniform distributed groups among all clusters, and k = 3 has great performance where all three clusters has more than 400 instances, when k = 5 gives extremely worse situation where some group only has a couple of instances. Then we can claim the algorithm has somehow captures the related subject of the articles."
   ]
  },
  {
   "cell_type": "code",
   "execution_count": 6,
   "metadata": {},
   "outputs": [
    {
     "name": "stdout",
     "output_type": "stream",
     "text": [
      "[[1281, 1283, 139, 724, 587, 797, 1227, 715, 159, 1359], [997, 968, 541, 1314, 983, 767, 370, 704, 1000, 1032], [519, 574, 453, 499, 0, 90, 122, 123, 124, 777]]\n"
     ]
    }
   ],
   "source": [
    "from sklearn.metrics import pairwise_distances\n",
    "kmeanModel = KMeans(n_clusters=3).fit(docWords)\n",
    "dists = pairwise_distances(kmeanModel.cluster_centers_, docWords)\n",
    "closest = [ sorted(range(len(dist)), key=lambda i: dist[i] if kmeanModel.labels_[i] == index else 99999)[:10] for index, dist in enumerate(dists)]\n",
    "print(closest)"
   ]
  },
  {
   "cell_type": "code",
   "execution_count": 10,
   "metadata": {
    "scrolled": true
   },
   "outputs": [
    {
     "name": "stdout",
     "output_type": "stream",
     "text": [
      "----- Class 0 -----\n",
      "\"The Formation of Chondrules at High Gas Pressures in the Solar Nebula\"\n",
      "\n",
      "\"Nitric Acid Trihydrate (NAT) in Polar Stratospheric Clouds\"\n",
      "\n",
      "\"Population Dynamical Consequences of Climate Change for a Small Temperate Songbird\"\n",
      "\n",
      "\"Subducted Seamount Imaged in the Rupture Zone of the 1946 Nankaido Earthquake\"\n",
      "\n",
      "\"A Monoclinic Post-Stishovite Polymorph of Silica in the Shergotty Meteorite\"\n",
      "\n",
      "\"Synthesis and Characterization of Helical Multi-Shell Gold Nanowires\"\n",
      "\n",
      "\"Crossing the Hopf Bifurcation in a Live Predator-Prey System\"\n",
      "\n",
      "\"Earth's Enigmatic Interface\"\n",
      "\n",
      "\"Ambipolar Pentacene Field-Effect Transistors and Inverters\"\n",
      "\n",
      "\"Reconstruction of the Amazon Basin Effective Moisture Availability over the past 14,000 Years\"\n",
      "\n",
      "----- Class 1 -----\n",
      "\"Requirement of NAD and SIR2 for Life-Span Extension by Calorie Restriction in Saccharomyces Cerevisiae\"\n",
      "\n",
      "\"Suppression of Mutations in Mitochondrial DNA by tRNAs Imported from the Cytoplasm\"\n",
      "\n",
      "\"Distinct Classes of Yeast Promoters Revealed by Differential TAF Recruitment\"\n",
      "\n",
      "\"Efficient Initiation of HCV RNA Replication in Cell Culture\"\n",
      "\n",
      "\"Ubiquitination: More Than Two to Tango\"\n",
      "\n",
      "\"Negative Regulation of the SHATTERPROOF Genes by FRUITFULL during Arabidopsis Fruit Development\"\n",
      "\n",
      "\"T Cell-Independent Rescue of B Lymphocytes from Peripheral Immune Tolerance\"\n",
      "\n",
      "\"Reduced Food Intake and Body Weight in Mice Treated with Fatty Acid Synthase Inhibitors\"\n",
      "\n",
      "\"Patterning of the Zebrafish Retina by a Wave of Sonic Hedgehog Activity\"\n",
      "\n",
      "\"Active Remodeling of Somatic Nuclei in Egg Cytoplasm by the Nucleosomal ATPase ISWI\"\n",
      "\n",
      "----- Class 2 -----\n",
      "\"Algorithmic Gladiators Vie for Digital Glory\"\n",
      "\n",
      "\"Reopening the Darkest Chapter in German Science\"\n",
      "\n",
      "\"Information Technology Takes a Different Tack\"\n",
      "\n",
      "\"National Academy of Sciences Elects New Members\"\n",
      "\n",
      "\"Archaeology in the Holy Land\"\n",
      "\n",
      "\"Heretical Idea Faces Its Sternest Test\"\n",
      "\n",
      "\"Corrections and Clarifications: A Short Fe-Fe Distance in Peroxodiferric Ferritin: Control of Fe Substrate versus Cofactor Decay?\"\n",
      "\n",
      "\"Corrections and Clarifications: Charon's First Detailed Spectra Hold Many Surprises\"\n",
      "\n",
      "\"Corrections and Clarifications: Unearthing Monuments of the Yarmukians\"\n",
      "\n",
      "\"Divining Diet and Disease from DNA\"\n",
      "\n"
     ]
    }
   ],
   "source": [
    "f = open('science2k-titles.txt')\n",
    "titles=[]\n",
    "for line in f: titles.append(line)\n",
    "# print(titles)\n",
    "for k in range(3):\n",
    "    print('----- Class',k,'-----')\n",
    "    for i in closest[k]:\n",
    "        print(titles[i])"
   ]
  },
  {
   "cell_type": "markdown",
   "metadata": {},
   "source": [
    "we find that there are two groups are biology-related and geography-related respectively, also a group which we are not able to identify which is very elusive. This could be used to construct a recommendation system. After one read the article, we can send him or her some other article that he or he may interested in."
   ]
  },
  {
   "cell_type": "markdown",
   "metadata": {},
   "source": [
    "(b)"
   ]
  },
  {
   "cell_type": "code",
   "execution_count": 11,
   "metadata": {},
   "outputs": [
    {
     "data": {
      "image/png": "[encoded data removed]",
      "text/plain": [
       "<matplotlib.figure.Figure at 0x10da02cf8>"
      ]
     },
     "metadata": {},
     "output_type": "display_data"
    }
   ],
   "source": [
    "wordDocs=np.load(\"science2k-word-doc.npy\")\n",
    "distortions = []\n",
    "K=[1,2,3,4,5,6,7,8,12,16,20]\n",
    "for k in K:\n",
    "    kmeanModel = KMeans(n_clusters=k).fit(wordDocs)\n",
    "    distortions.append(sum(np.min(cdist(wordDocs, kmeanModel.cluster_centers_, 'euclidean'), axis=1)) / wordDocs.shape[0])\n",
    "\n",
    "plt.plot(K, distortions, 'bx-')\n",
    "plt.xlabel('k')\n",
    "plt.ylabel('Distortion')\n",
    "plt.title('The Elbow Method showing the optimal k')\n",
    "plt.show()"
   ]
  },
  {
   "cell_type": "markdown",
   "metadata": {},
   "source": [
    "According to the elbow method, we choose k = 5"
   ]
  },
  {
   "cell_type": "code",
   "execution_count": 12,
   "metadata": {},
   "outputs": [
    {
     "name": "stdout",
     "output_type": "stream",
     "text": [
      "[[4744, 4403, 5023, 4230, 4764, 5371, 4278, 4921, 5295, 4256], [981, 1115, 1044, 1106, 545, 389, 963, 760, 759, 622], [3478, 1791, 2592, 1459, 1495, 1608, 2577, 1776, 2040, 1992], [11, 12, 3395, 3482, 2866, 4927, 5374, 4610, 2998, 3115], [5322, 5279, 5411, 5454, 4995, 4975, 4535, 5312, 5261, 5458]]\n"
     ]
    }
   ],
   "source": [
    "kmeanModel = KMeans(n_clusters=5).fit(wordDocs)\n",
    "dists = pairwise_distances(kmeanModel.cluster_centers_, wordDocs)\n",
    "closest = [ sorted(range(len(dist)), key=lambda i: dist[i] if kmeanModel.labels_[i] == index else 99999)[:10] for index, dist in enumerate(dists)]\n",
    "print(closest)"
   ]
  },
  {
   "cell_type": "code",
   "execution_count": 13,
   "metadata": {},
   "outputs": [
    {
     "name": "stdout",
     "output_type": "stream",
     "text": [
      "----- Class 0 -----\n",
      "recalls\n",
      "\n",
      "clinton\n",
      "\n",
      "geneticist\n",
      "\n",
      "security\n",
      "\n",
      "fight\n",
      "\n",
      "prize\n",
      "\n",
      "finished\n",
      "\n",
      "spending\n",
      "\n",
      "campaign\n",
      "\n",
      "rights\n",
      "\n",
      "----- Class 1 -----\n",
      "cooh\n",
      "\n",
      "nh2\n",
      "\n",
      "incubated\n",
      "\n",
      "assays\n",
      "\n",
      "promoter\n",
      "\n",
      "kinase\n",
      "\n",
      "polymerase\n",
      "\n",
      "staining\n",
      "\n",
      "purified\n",
      "\n",
      "pcr\n",
      "\n",
      "----- Class 2 -----\n",
      "approximation\n",
      "\n",
      "angular\n",
      "\n",
      "finite\n",
      "\n",
      "coherent\n",
      "\n",
      "nonlinear\n",
      "\n",
      "regime\n",
      "\n",
      "calculation\n",
      "\n",
      "diffraction\n",
      "\n",
      "energies\n",
      "\n",
      "equation\n",
      "\n",
      "----- Class 3 -----\n",
      "sciencemag\n",
      "\n",
      "vol\n",
      "\n",
      "introns\n",
      "\n",
      "myc\n",
      "\n",
      "p21\n",
      "\n",
      "elisa\n",
      "\n",
      "cdnas\n",
      "\n",
      "triton\n",
      "\n",
      "cyclin\n",
      "\n",
      "immunoreactivity\n",
      "\n",
      "----- Class 4 -----\n",
      "lcts\n",
      "\n",
      "aptamers\n",
      "\n",
      "neas\n",
      "\n",
      "trxr\n",
      "\n",
      "dnag\n",
      "\n",
      "proteorhodopsin\n",
      "\n",
      "nompc\n",
      "\n",
      "doxy\n",
      "\n",
      "rory\n",
      "\n",
      "lg268\n",
      "\n"
     ]
    }
   ],
   "source": [
    "f = open('science2k-vocab.txt')\n",
    "vocabs=[]\n",
    "for line in f: vocabs.append(line)\n",
    "for k in range(5):\n",
    "    print('----- Class',k,'-----')\n",
    "    for i in closest[k]:\n",
    "        print(vocabs[i])"
   ]
  },
  {
   "cell_type": "markdown",
   "metadata": {},
   "source": [
    "The meaning of the words in different classes are elusive, it's hard to tell their classification.   \n",
    "But we can use centroids of terms to represent terms and to tag the articles to facilitate searching.\n",
    "Clustering terms is a dual problem of clustering documents. They are used in different areas. "
   ]
  }
 ],
 "metadata": {
  "kernelspec": {
   "display_name": "Python 3",
   "language": "python",
   "name": "python3"
  },
  "language_info": {
   "codemirror_mode": {
    "name": "ipython",
    "version": 3
   },
   "file_extension": ".py",
   "mimetype": "text/x-python",
   "name": "python",
   "nbconvert_exporter": "python",
   "pygments_lexer": "ipython3",
   "version": "3.6.1"
  }
 },
 "nbformat": 4,
 "nbformat_minor": 2
}
