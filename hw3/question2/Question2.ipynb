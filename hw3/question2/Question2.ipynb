{
 "cells": [
  {
   "cell_type": "code",
   "execution_count": 52,
   "metadata": {},
   "outputs": [
    {
     "data": {
      "image/png": "[encoded data removed]",
      "text/plain": [
       "<matplotlib.figure.Figure at 0x10a4e4668>"
      ]
     },
     "metadata": {},
     "output_type": "display_data"
    }
   ],
   "source": [
    "import numpy as np\n",
    "from sklearn.cluster import KMeans\n",
    "import matplotlib.pyplot as plt\n",
    "from scipy.spatial.distance import cdist\n",
    "\n",
    "docWords=np.load(\"science2k-doc-word.npy\")\n",
    "distortions = []\n",
    "K=[1,2,3,5,8,12,16,20]\n",
    "for k in K:\n",
    "    kmeanModel = KMeans(n_clusters=k).fit(docWords)\n",
    "    distortions.append(sum(np.min(cdist(docWords, kmeanModel.cluster_centers_, 'euclidean'), axis=1)) / docWords.shape[0])\n",
    "\n",
    "plt.plot(K, distortions, 'bx-')\n",
    "plt.xlabel('k')\n",
    "plt.ylabel('Distortion')\n",
    "plt.title('The Elbow Method showing the optimal k')\n",
    "plt.show()"
   ]
  },
  {
   "cell_type": "markdown",
   "metadata": {},
   "source": [
    "We choose k = 3 with respect to the following reason. According to the elbow method, which determines the k by taking consideration of the percentage of variance explained as a function of the number of clusters. k = 5 is also a potential choice. However, by inspecting the top 10 example within each clusters when we use k = 3, k = 5. When k = 3, we find that there are two groups are biology-related and geography-related respectively, also a group which we are not able to identify which is very elusive. But when k = 5, there is clearly two groups that is biology-related that imply we get too large k. In addition, it is better to have uniform distributed groups among all clusters, and k = 3 has great performance where all three clusters has more than 400 instances, when k = 5 gives extremely worse situation where some group only has a couple of instances. Then we can claim the algorithm has somehow captures the related subject of the articles."
   ]
  },
  {
   "cell_type": "code",
   "execution_count": 79,
   "metadata": {},
   "outputs": [
    {
     "name": "stdout",
     "output_type": "stream",
     "text": [
      "[[997, 968, 541, 1314, 983, 767, 370, 704, 1000, 1032], [1281, 139, 1283, 724, 587, 797, 1227, 715, 159, 1359], [519, 574, 453, 499, 0, 90, 122, 123, 124, 777]]\n"
     ]
    }
   ],
   "source": [
    "from sklearn.metrics import pairwise_distances\n",
    "kmeanModel = KMeans(n_clusters=3).fit(docWords)\n",
    "dists = pairwise_distances(kmeanModel.cluster_centers_, docWords)\n",
    "closest = [ sorted(range(len(dist)), key=lambda i: dist[i] if kmeanModel.labels_[i] == index else 99999)[:10] for index, dist in enumerate(dists)]\n",
    "print(closest)"
   ]
  },
  {
   "cell_type": "code",
   "execution_count": 71,
   "metadata": {
    "scrolled": true
   },
   "outputs": [
    {
     "name": "stdout",
     "output_type": "stream",
     "text": [
      "\"Requirement of NAD and SIR2 for Life-Span Extension by Calorie Restriction in Saccharomyces Cerevisiae\"\n",
      "\n",
      "\"Suppression of Mutations in Mitochondrial DNA by tRNAs Imported from the Cytoplasm\"\n",
      "\n",
      "\"Distinct Classes of Yeast Promoters Revealed by Differential TAF Recruitment\"\n",
      "\n",
      "\"Efficient Initiation of HCV RNA Replication in Cell Culture\"\n",
      "\n",
      "\"Ubiquitination: More Than Two to Tango\"\n",
      "\n",
      "\"Negative Regulation of the SHATTERPROOF Genes by FRUITFULL during Arabidopsis Fruit Development\"\n",
      "\n",
      "\"T Cell-Independent Rescue of B Lymphocytes from Peripheral Immune Tolerance\"\n",
      "\n",
      "\"Reduced Food Intake and Body Weight in Mice Treated with Fatty Acid Synthase Inhibitors\"\n",
      "\n",
      "\"Patterning of the Zebrafish Retina by a Wave of Sonic Hedgehog Activity\"\n",
      "\n",
      "\"Active Remodeling of Somatic Nuclei in Egg Cytoplasm by the Nucleosomal ATPase ISWI\"\n",
      "\n"
     ]
    }
   ],
   "source": [
    "f = open('science2k-titles.txt')\n",
    "titles=[]\n",
    "for line in f: titles.append(line)\n",
    "# print(titles)\n",
    "for i in closest[2]:\n",
    "    print(titles[i])"
   ]
  },
  {
   "cell_type": "markdown",
   "metadata": {},
   "source": [
    "we find that there are two groups are biology-related and geography-related respectively, also a group which we are not able to identify which is very elusive. This could be used to construct a recommendation system. After one read the article, we can send him or her some other article that he or he may interested in."
   ]
  },
  {
   "cell_type": "code",
   "execution_count": 85,
   "metadata": {},
   "outputs": [
    {
     "data": {
      "image/png": "[encoded data removed]",
      "text/plain": [
       "<matplotlib.figure.Figure at 0x12a26add8>"
      ]
     },
     "metadata": {},
     "output_type": "display_data"
    }
   ],
   "source": [
    "wordDocs=np.load(\"science2k-word-doc.npy\")\n",
    "distortions = []\n",
    "K=[1,2,3,4,5,6,7,8,12,16,20]\n",
    "for k in K:\n",
    "    kmeanModel = KMeans(n_clusters=k).fit(wordDocs)\n",
    "    distortions.append(sum(np.min(cdist(wordDocs, kmeanModel.cluster_centers_, 'euclidean'), axis=1)) / wordDocs.shape[0])\n",
    "\n",
    "plt.plot(K, distortions, 'bx-')\n",
    "plt.xlabel('k')\n",
    "plt.ylabel('Distortion')\n",
    "plt.title('The Elbow Method showing the optimal k')\n",
    "plt.show()"
   ]
  },
  {
   "cell_type": "markdown",
   "metadata": {},
   "source": [
    "According to the elbow method, we choose k = 5"
   ]
  },
  {
   "cell_type": "code",
   "execution_count": 86,
   "metadata": {},
   "outputs": [
    {
     "name": "stdout",
     "output_type": "stream",
     "text": [
      "[[5279, 5261, 4995, 4535, 5454, 3399, 5458, 4975, 5312, 5322], [2440, 1406, 3478, 1539, 2212, 2352, 1944, 2720, 1791, 1491], [2457, 3260, 959, 2562, 2673, 2824, 1827, 2112, 1616, 829], [4134, 4528, 4776, 2829, 5157, 2662, 3340, 3663, 4953, 1143], [5064, 4380, 4744, 4403, 5023, 4230, 4764, 5371, 4278, 4921]]\n"
     ]
    }
   ],
   "source": [
    "kmeanModel = KMeans(n_clusters=5).fit(wordDocs)\n",
    "dists = pairwise_distances(kmeanModel.cluster_centers_, wordDocs)\n",
    "closest = [ sorted(range(len(dist)), key=lambda i: dist[i] if kmeanModel.labels_[i] == index else 99999)[:10] for index, dist in enumerate(dists)]\n",
    "print(closest)"
   ]
  },
  {
   "cell_type": "code",
   "execution_count": 93,
   "metadata": {},
   "outputs": [
    {
     "name": "stdout",
     "output_type": "stream",
     "text": [
      "schools\n",
      "\n",
      "weapons\n",
      "\n",
      "recalls\n",
      "\n",
      "clinton\n",
      "\n",
      "geneticist\n",
      "\n",
      "security\n",
      "\n",
      "fight\n",
      "\n",
      "prize\n",
      "\n",
      "finished\n",
      "\n",
      "spending\n",
      "\n"
     ]
    }
   ],
   "source": [
    "f = open('science2k-vocab.txt')\n",
    "vocabs=[]\n",
    "for line in f: vocabs.append(line)\n",
    "for i in closest[4]:\n",
    "    print(vocabs[i])"
   ]
  }
 ],
 "metadata": {
  "kernelspec": {
   "display_name": "Python 3",
   "language": "python",
   "name": "python3"
  },
  "language_info": {
   "codemirror_mode": {
    "name": "ipython",
    "version": 3
   },
   "file_extension": ".py",
   "mimetype": "text/x-python",
   "name": "python",
   "nbconvert_exporter": "python",
   "pygments_lexer": "ipython3",
   "version": "3.6.1"
  }
 },
 "nbformat": 4,
 "nbformat_minor": 2
}
